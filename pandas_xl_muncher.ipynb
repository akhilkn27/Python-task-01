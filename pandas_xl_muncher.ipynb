{
 "cells": [
  {
   "cell_type": "code",
   "execution_count": 25,
   "id": "d222b7d3",
   "metadata": {},
   "outputs": [
    {
     "name": "stdout",
     "output_type": "stream",
     "text": [
      "no of columns -->  82\n"
     ]
    }
   ],
   "source": [
    "import pandas as pd\n",
    "column_name = []\n",
    "criteria_column = 7       # Replace with the column name you want to filter by\n",
    "criteria_value = None      # Replace with the criteria value you want to filter\n",
    "\n",
    "## NOTE :: the no of colums in these two variables below must be same (only change these two varables :: dont modify anything else)\n",
    "columns_to_copy = [7, 8, 9, 10]  # Replace with the list of column names to copy\n",
    "column_mapping = {7: \"a\", 8: \"b\", 9: \"c\", 10: \"d\"} # Define the mapping of old column names to new column names\n",
    "\n",
    "# Step 1: Read the original Excel file into a DataFrame\n",
    "original_excel_file = 'C:/Users/ashish.Kulai/Desktop/delete_test.xlsx'  # Replace with your file path\n",
    "\n",
    "###--------------------------------------------###\n",
    "\n",
    "df_original = pd.read_excel(original_excel_file)\n",
    "\n",
    "# Step 2: Select the rows you want to copy from original file --> to be considered for processing\n",
    "start_row = 8\n",
    "end_row = 30\n",
    "df_copy = df_original.iloc[start_row - 1:end_row]  # Adjust the row indices as needed\n",
    "\n",
    "# Step 3: Save the selected rows as a new Excel file\n",
    "output_excel_file = 'C:/Users/ashish.Kulai/Desktop/selected_rows.xlsx'  # Replace with your desired file name\n",
    "\n",
    "row_index = 0  # Replace with the desired row index\n",
    "\n",
    "# Count the number of columns in the specified row\n",
    "num_columns = df_copy.iloc[8].shape[0]\n",
    "print('no of columns --> ',num_columns)\n",
    "\n",
    "for i in range(num_columns):\n",
    "    column_name.append(i+1)\n",
    "df_copy.columns = column_name\n",
    "\n",
    "# Filter rows based on the criteria\n",
    "df_copy = df_copy[(df_copy[criteria_column] != criteria_value) & (~df_copy[criteria_column].isnull())]\n",
    "\n",
    "# Select the specified columns\n",
    "df_copy = df_copy[columns_to_copy]\n",
    "\n",
    "# Create a list of new column names in the correct order\n",
    "new_column_names = [column_mapping[col] for col in df_copy.columns]\n",
    "\n",
    "# Rename the columns\n",
    "df_copy.columns = new_column_names\n",
    "\n",
    "df_copy.to_excel(output_excel_file, index=False)\n",
    "\n",
    "#print(f'Selected rows have been copied to \"{output_excel_file}\".')"
   ]
  }
 ],
 "metadata": {
  "kernelspec": {
   "display_name": "Python 3 (ipykernel)",
   "language": "python",
   "name": "python3"
  },
  "language_info": {
   "codemirror_mode": {
    "name": "ipython",
    "version": 3
   },
   "file_extension": ".py",
   "mimetype": "text/x-python",
   "name": "python",
   "nbconvert_exporter": "python",
   "pygments_lexer": "ipython3",
   "version": "3.9.12"
  }
 },
 "nbformat": 4,
 "nbformat_minor": 5
}
